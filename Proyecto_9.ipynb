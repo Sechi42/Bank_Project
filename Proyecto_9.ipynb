{
 "cells": [
  {
   "cell_type": "markdown",
   "metadata": {},
   "source": [
    "# Indice\n",
    "\n",
    "1. [Introducción](#titulo_principal)\n",
    "2. [Importación de librerías](#titulo_principal_1)\n",
    "3. [Procesado de datos](#titulo_principal_2)\n",
    "4. [Entreno de modelos sin considerar un desquilibrio de clases](#titulo_principal_3)\n",
    "5. [Mejora de modelo](#titulo_principal_4)\n",
    "6. [Prueba final](#titulo_principal_5)\n",
    "7. [Conclusión](#titulo_principal_6)\n"
   ]
  },
  {
   "cell_type": "markdown",
   "metadata": {},
   "source": [
    "## Introducción<a id=\"titulo_principal\"></a>\n",
    "\n",
    "En este proyecto, se trabajará con los datos de los clientes de Beta Bank. El banco ha estado experimentando una pérdida de clientes mes a mes, y el objetivo es obtener información valiosa que ayude a retener a estos clientes.\n",
    "\n",
    "Para ello, se creará un modelo de aprendizaje automático (ML) que pueda predecir, en función de las variables de los datos de los clientes, si un cliente ha dejado de utilizar los servicios del banco o si sigue siendo un cliente activo.\n",
    "\n",
    "En particular, se buscará calcular la métrica F1 con un valor mínimo de 0.59 para el mejor modelo, así como la métrica AUC-ROC, con el fin de evaluar si el modelo tiene un buen rendimiento en términos de sensibilidad y precisión, así como su capacidad para distinguir entre clases. En este caso, las clases son:\n",
    "\n",
    "- **Exited:** El cliente se ha ido (1 - sí; 0 - no)\n",
    "\n",
    "El proyecto se dividirá en varias etapas, desde la preparación de los datos hasta la evaluación del modelo, con un enfoque en mejorar la precisión y sensibilidad del mismo. Se utilizarán técnicas de balanceo de clases y se probarán diferentes enfoques para asegurar que el modelo final sea robusto y fiable.\n"
   ]
  },
  {
   "cell_type": "markdown",
   "metadata": {},
   "source": [
    "## Importación de librerias<a id=\"titulo_principal_1\"></a>"
   ]
  },
  {
   "cell_type": "code",
   "execution_count": 1,
   "metadata": {},
   "outputs": [],
   "source": [
    "import numpy as np\n",
    "import pandas as pd\n",
    "import seaborn as sns\n",
    "import matplotlib.pyplot as plt\n",
    "from scipy import stats\n",
    "from sklearn.utils import shuffle\n",
    "from sklearn.tree import DecisionTreeClassifier\n",
    "from sklearn.preprocessing import StandardScaler\n",
    "from sklearn.preprocessing import OrdinalEncoder\n",
    "from sklearn.ensemble import RandomForestClassifier\n",
    "from sklearn.linear_model import LogisticRegression\n",
    "from sklearn.model_selection import train_test_split, GridSearchCV\n",
    "from sklearn.metrics import accuracy_score, f1_score, roc_auc_score, precision_score, recall_score\n"
   ]
  },
  {
   "cell_type": "code",
   "execution_count": 2,
   "metadata": {},
   "outputs": [],
   "source": [
    "# Carga del dataset \n",
    "\n",
    "df = pd.read_csv('Churn.csv')"
   ]
  },
  {
   "cell_type": "markdown",
   "metadata": {},
   "source": [
    "## Preprocesado de datos <a id=\"titulo_principal_2\"></a>"
   ]
  },
  {
   "cell_type": "markdown",
   "metadata": {},
   "source": [
    "### Observación de datos"
   ]
  },
  {
   "cell_type": "code",
   "execution_count": 3,
   "metadata": {},
   "outputs": [
    {
     "name": "stdout",
     "output_type": "stream",
     "text": [
      "   RowNumber  CustomerId   Surname  CreditScore Geography  Gender  Age  \\\n",
      "0          1    15634602  Hargrave          619    France  Female   42   \n",
      "1          2    15647311      Hill          608     Spain  Female   41   \n",
      "2          3    15619304      Onio          502    France  Female   42   \n",
      "3          4    15701354      Boni          699    France  Female   39   \n",
      "4          5    15737888  Mitchell          850     Spain  Female   43   \n",
      "\n",
      "   Tenure    Balance  NumOfProducts  HasCrCard  IsActiveMember  \\\n",
      "0     2.0       0.00              1          1               1   \n",
      "1     1.0   83807.86              1          0               1   \n",
      "2     8.0  159660.80              3          1               0   \n",
      "3     1.0       0.00              2          0               0   \n",
      "4     2.0  125510.82              1          1               1   \n",
      "\n",
      "   EstimatedSalary  Exited  \n",
      "0        101348.88       1  \n",
      "1        112542.58       0  \n",
      "2        113931.57       1  \n",
      "3         93826.63       0  \n",
      "4         79084.10       0  \n"
     ]
    }
   ],
   "source": [
    "print(df.head())"
   ]
  },
  {
   "cell_type": "code",
   "execution_count": 4,
   "metadata": {},
   "outputs": [
    {
     "name": "stdout",
     "output_type": "stream",
     "text": [
      "<class 'pandas.core.frame.DataFrame'>\n",
      "RangeIndex: 10000 entries, 0 to 9999\n",
      "Data columns (total 14 columns):\n",
      " #   Column           Non-Null Count  Dtype  \n",
      "---  ------           --------------  -----  \n",
      " 0   RowNumber        10000 non-null  int64  \n",
      " 1   CustomerId       10000 non-null  int64  \n",
      " 2   Surname          10000 non-null  object \n",
      " 3   CreditScore      10000 non-null  int64  \n",
      " 4   Geography        10000 non-null  object \n",
      " 5   Gender           10000 non-null  object \n",
      " 6   Age              10000 non-null  int64  \n",
      " 7   Tenure           9091 non-null   float64\n",
      " 8   Balance          10000 non-null  float64\n",
      " 9   NumOfProducts    10000 non-null  int64  \n",
      " 10  HasCrCard        10000 non-null  int64  \n",
      " 11  IsActiveMember   10000 non-null  int64  \n",
      " 12  EstimatedSalary  10000 non-null  float64\n",
      " 13  Exited           10000 non-null  int64  \n",
      "dtypes: float64(3), int64(8), object(3)\n",
      "memory usage: 1.1+ MB\n"
     ]
    }
   ],
   "source": [
    "df.info()"
   ]
  },
  {
   "cell_type": "markdown",
   "metadata": {},
   "source": [
    "- Veo que hay 10,000 entradas con 3 columnas tipo 'float', 8 tipo 'int', y 3 de tipo 'string'\n",
    "- Todas las columnas exceptuando la septima llamada 'Tenure'\n",
    "- En las especificaciones del dataset menciona:\n",
    "     - **Tenure:** período durante el cual ha madurado el depósito a plazo fijo de un cliente (años)"
   ]
  },
  {
   "cell_type": "markdown",
   "metadata": {},
   "source": [
    "    Posiblemente Ternure tiene muchas columnas nulas por temas de que hay clientes nuevos que llevan un periodo con plazo fijo insignificante"
   ]
  },
  {
   "cell_type": "code",
   "execution_count": 5,
   "metadata": {},
   "outputs": [
    {
     "name": "stdout",
     "output_type": "stream",
     "text": [
      "0\n"
     ]
    }
   ],
   "source": [
    "# Calculando cantidad de filas duplicadas\n",
    "\n",
    "print(df.duplicated().sum())"
   ]
  },
  {
   "cell_type": "code",
   "execution_count": 6,
   "metadata": {},
   "outputs": [
    {
     "name": "stdout",
     "output_type": "stream",
     "text": [
      "Tenure\n",
      "1.0     952\n",
      "2.0     950\n",
      "8.0     933\n",
      "3.0     928\n",
      "5.0     927\n",
      "7.0     925\n",
      "4.0     885\n",
      "9.0     882\n",
      "6.0     881\n",
      "10.0    446\n",
      "0.0     382\n",
      "Name: count, dtype: int64\n"
     ]
    }
   ],
   "source": [
    "print(df['Tenure'].value_counts())"
   ]
  },
  {
   "cell_type": "markdown",
   "metadata": {},
   "source": [
    "Como se puede observar, los datos nulos no se deben a un tema de que hay una falta de tiempo del cliente en la compañia, además se puede observar una disminución significativa de clientes en 10 años en la compañia\n",
    "\n",
    "para poder rellenar estos datos nulos hay varias opciones: \n",
    "\n",
    "1. Eliminar filas que creo que no es una solucion viable puesto que casi el 10% de las entradas son nulas\n",
    "2. Utilizar la media o la mediana para poder rellenar los datos según convenga\n",
    "3. Colocar un 'Unknown' para rellenar los datos nulos que afectaria los modelos de ML"
   ]
  },
  {
   "cell_type": "code",
   "execution_count": 7,
   "metadata": {},
   "outputs": [
    {
     "name": "stdout",
     "output_type": "stream",
     "text": [
      "count    9091.00\n",
      "mean        5.00\n",
      "std         2.89\n",
      "min         0.00\n",
      "25%         2.00\n",
      "50%         5.00\n",
      "75%         7.00\n",
      "max        10.00\n",
      "Name: Tenure, dtype: float64\n"
     ]
    }
   ],
   "source": [
    "summary = df['Tenure'].describe().round(2)\n",
    "\n",
    "print(summary)"
   ]
  },
  {
   "cell_type": "markdown",
   "metadata": {},
   "source": [
    "Usare la mediana para rellenar los datos puesto que es similar a la media y no sesga, además modificare el tipo de dato pues float no es necesario para esta columna y puede ayudar a optimizar el tiempo de calculo"
   ]
  },
  {
   "cell_type": "code",
   "execution_count": 8,
   "metadata": {},
   "outputs": [
    {
     "name": "stdout",
     "output_type": "stream",
     "text": [
      "count    9091.00\n",
      "mean        5.00\n",
      "std         2.89\n",
      "min         0.00\n",
      "25%         2.00\n",
      "50%         5.00\n",
      "75%         7.00\n",
      "max        10.00\n",
      "Name: Tenure, dtype: float64\n",
      "\n",
      "<class 'pandas.core.frame.DataFrame'>\n",
      "RangeIndex: 10000 entries, 0 to 9999\n",
      "Data columns (total 14 columns):\n",
      " #   Column           Non-Null Count  Dtype  \n",
      "---  ------           --------------  -----  \n",
      " 0   RowNumber        10000 non-null  int64  \n",
      " 1   CustomerId       10000 non-null  int64  \n",
      " 2   Surname          10000 non-null  object \n",
      " 3   CreditScore      10000 non-null  int64  \n",
      " 4   Geography        10000 non-null  object \n",
      " 5   Gender           10000 non-null  object \n",
      " 6   Age              10000 non-null  int64  \n",
      " 7   Tenure           10000 non-null  int64  \n",
      " 8   Balance          10000 non-null  float64\n",
      " 9   NumOfProducts    10000 non-null  int64  \n",
      " 10  HasCrCard        10000 non-null  int64  \n",
      " 11  IsActiveMember   10000 non-null  int64  \n",
      " 12  EstimatedSalary  10000 non-null  float64\n",
      " 13  Exited           10000 non-null  int64  \n",
      "dtypes: float64(2), int64(9), object(3)\n",
      "memory usage: 1.1+ MB\n",
      "None\n"
     ]
    }
   ],
   "source": [
    "df['Tenure'] = df['Tenure'].fillna(df['Tenure'].median()).astype('int64')\n",
    "\n",
    "print(summary)\n",
    "print()\n",
    "print(df.info())"
   ]
  },
  {
   "cell_type": "code",
   "execution_count": 9,
   "metadata": {},
   "outputs": [
    {
     "name": "stdout",
     "output_type": "stream",
     "text": [
      "RowNumber          10000\n",
      "CustomerId         10000\n",
      "Surname             2932\n",
      "CreditScore          460\n",
      "Geography              3\n",
      "Gender                 2\n",
      "Age                   70\n",
      "Tenure                11\n",
      "Balance             6382\n",
      "NumOfProducts          4\n",
      "HasCrCard              2\n",
      "IsActiveMember         2\n",
      "EstimatedSalary     9999\n",
      "Exited                 2\n",
      "dtype: int64\n"
     ]
    }
   ],
   "source": [
    "cantidad_valores_unicos_por_columna = df.nunique()\n",
    "print(cantidad_valores_unicos_por_columna)"
   ]
  },
  {
   "cell_type": "markdown",
   "metadata": {},
   "source": [
    "### Codificación y escalado de varibales"
   ]
  },
  {
   "cell_type": "code",
   "execution_count": 10,
   "metadata": {},
   "outputs": [
    {
     "name": "stdout",
     "output_type": "stream",
     "text": [
      "   RowNumber  CustomerId  CreditScore  Age  Tenure    Balance  NumOfProducts  \\\n",
      "0          1    15634602          619   42       2       0.00              1   \n",
      "1          2    15647311          608   41       1   83807.86              1   \n",
      "2          3    15619304          502   42       8  159660.80              3   \n",
      "\n",
      "   HasCrCard  IsActiveMember  EstimatedSalary  ...  Surname_Zotova  \\\n",
      "0          1               1        101348.88  ...           False   \n",
      "1          0               1        112542.58  ...           False   \n",
      "2          1               0        113931.57  ...           False   \n",
      "\n",
      "   Surname_Zox  Surname_Zubarev  Surname_Zubareva  Surname_Zuev  \\\n",
      "0        False            False             False         False   \n",
      "1        False            False             False         False   \n",
      "2        False            False             False         False   \n",
      "\n",
      "   Surname_Zuyev  Surname_Zuyeva  Geography_Germany  Geography_Spain  \\\n",
      "0          False           False              False            False   \n",
      "1          False           False              False             True   \n",
      "2          False           False              False            False   \n",
      "\n",
      "   Gender_Male  \n",
      "0        False  \n",
      "1        False  \n",
      "2        False  \n",
      "\n",
      "[3 rows x 2945 columns]\n",
      "(3, 2945)\n"
     ]
    }
   ],
   "source": [
    "data_ohe = (pd.get_dummies(df,drop_first=True).head(3))\n",
    "\n",
    "print(data_ohe)\n",
    "print(data_ohe.shape)"
   ]
  },
  {
   "cell_type": "markdown",
   "metadata": {},
   "source": [
    "En este punto se crea un exceso de columnas, y esto es debido a que la columna 'Surname' con tiene valores unicos en una enorme cantidad, por lo que para nuestros calculos en realidad saber este dato es irrelevante, eliminare del dataset esta columna que tiene 2932 valores unicos"
   ]
  },
  {
   "cell_type": "code",
   "execution_count": 11,
   "metadata": {},
   "outputs": [
    {
     "data": {
      "text/html": [
       "<div>\n",
       "<style scoped>\n",
       "    .dataframe tbody tr th:only-of-type {\n",
       "        vertical-align: middle;\n",
       "    }\n",
       "\n",
       "    .dataframe tbody tr th {\n",
       "        vertical-align: top;\n",
       "    }\n",
       "\n",
       "    .dataframe thead th {\n",
       "        text-align: right;\n",
       "    }\n",
       "</style>\n",
       "<table border=\"1\" class=\"dataframe\">\n",
       "  <thead>\n",
       "    <tr style=\"text-align: right;\">\n",
       "      <th></th>\n",
       "      <th>RowNumber</th>\n",
       "      <th>CustomerId</th>\n",
       "      <th>CreditScore</th>\n",
       "      <th>Age</th>\n",
       "      <th>Tenure</th>\n",
       "      <th>Balance</th>\n",
       "      <th>NumOfProducts</th>\n",
       "      <th>HasCrCard</th>\n",
       "      <th>IsActiveMember</th>\n",
       "      <th>EstimatedSalary</th>\n",
       "      <th>Exited</th>\n",
       "      <th>Geography_Germany</th>\n",
       "      <th>Geography_Spain</th>\n",
       "      <th>Gender_Male</th>\n",
       "    </tr>\n",
       "  </thead>\n",
       "  <tbody>\n",
       "    <tr>\n",
       "      <th>0</th>\n",
       "      <td>1</td>\n",
       "      <td>15634602</td>\n",
       "      <td>619</td>\n",
       "      <td>42</td>\n",
       "      <td>2</td>\n",
       "      <td>0.00</td>\n",
       "      <td>1</td>\n",
       "      <td>1</td>\n",
       "      <td>1</td>\n",
       "      <td>101348.88</td>\n",
       "      <td>1</td>\n",
       "      <td>False</td>\n",
       "      <td>False</td>\n",
       "      <td>False</td>\n",
       "    </tr>\n",
       "    <tr>\n",
       "      <th>1</th>\n",
       "      <td>2</td>\n",
       "      <td>15647311</td>\n",
       "      <td>608</td>\n",
       "      <td>41</td>\n",
       "      <td>1</td>\n",
       "      <td>83807.86</td>\n",
       "      <td>1</td>\n",
       "      <td>0</td>\n",
       "      <td>1</td>\n",
       "      <td>112542.58</td>\n",
       "      <td>0</td>\n",
       "      <td>False</td>\n",
       "      <td>True</td>\n",
       "      <td>False</td>\n",
       "    </tr>\n",
       "    <tr>\n",
       "      <th>2</th>\n",
       "      <td>3</td>\n",
       "      <td>15619304</td>\n",
       "      <td>502</td>\n",
       "      <td>42</td>\n",
       "      <td>8</td>\n",
       "      <td>159660.80</td>\n",
       "      <td>3</td>\n",
       "      <td>1</td>\n",
       "      <td>0</td>\n",
       "      <td>113931.57</td>\n",
       "      <td>1</td>\n",
       "      <td>False</td>\n",
       "      <td>False</td>\n",
       "      <td>False</td>\n",
       "    </tr>\n",
       "    <tr>\n",
       "      <th>3</th>\n",
       "      <td>4</td>\n",
       "      <td>15701354</td>\n",
       "      <td>699</td>\n",
       "      <td>39</td>\n",
       "      <td>1</td>\n",
       "      <td>0.00</td>\n",
       "      <td>2</td>\n",
       "      <td>0</td>\n",
       "      <td>0</td>\n",
       "      <td>93826.63</td>\n",
       "      <td>0</td>\n",
       "      <td>False</td>\n",
       "      <td>False</td>\n",
       "      <td>False</td>\n",
       "    </tr>\n",
       "    <tr>\n",
       "      <th>4</th>\n",
       "      <td>5</td>\n",
       "      <td>15737888</td>\n",
       "      <td>850</td>\n",
       "      <td>43</td>\n",
       "      <td>2</td>\n",
       "      <td>125510.82</td>\n",
       "      <td>1</td>\n",
       "      <td>1</td>\n",
       "      <td>1</td>\n",
       "      <td>79084.10</td>\n",
       "      <td>0</td>\n",
       "      <td>False</td>\n",
       "      <td>True</td>\n",
       "      <td>False</td>\n",
       "    </tr>\n",
       "    <tr>\n",
       "      <th>...</th>\n",
       "      <td>...</td>\n",
       "      <td>...</td>\n",
       "      <td>...</td>\n",
       "      <td>...</td>\n",
       "      <td>...</td>\n",
       "      <td>...</td>\n",
       "      <td>...</td>\n",
       "      <td>...</td>\n",
       "      <td>...</td>\n",
       "      <td>...</td>\n",
       "      <td>...</td>\n",
       "      <td>...</td>\n",
       "      <td>...</td>\n",
       "      <td>...</td>\n",
       "    </tr>\n",
       "    <tr>\n",
       "      <th>9995</th>\n",
       "      <td>9996</td>\n",
       "      <td>15606229</td>\n",
       "      <td>771</td>\n",
       "      <td>39</td>\n",
       "      <td>5</td>\n",
       "      <td>0.00</td>\n",
       "      <td>2</td>\n",
       "      <td>1</td>\n",
       "      <td>0</td>\n",
       "      <td>96270.64</td>\n",
       "      <td>0</td>\n",
       "      <td>False</td>\n",
       "      <td>False</td>\n",
       "      <td>True</td>\n",
       "    </tr>\n",
       "    <tr>\n",
       "      <th>9996</th>\n",
       "      <td>9997</td>\n",
       "      <td>15569892</td>\n",
       "      <td>516</td>\n",
       "      <td>35</td>\n",
       "      <td>10</td>\n",
       "      <td>57369.61</td>\n",
       "      <td>1</td>\n",
       "      <td>1</td>\n",
       "      <td>1</td>\n",
       "      <td>101699.77</td>\n",
       "      <td>0</td>\n",
       "      <td>False</td>\n",
       "      <td>False</td>\n",
       "      <td>True</td>\n",
       "    </tr>\n",
       "    <tr>\n",
       "      <th>9997</th>\n",
       "      <td>9998</td>\n",
       "      <td>15584532</td>\n",
       "      <td>709</td>\n",
       "      <td>36</td>\n",
       "      <td>7</td>\n",
       "      <td>0.00</td>\n",
       "      <td>1</td>\n",
       "      <td>0</td>\n",
       "      <td>1</td>\n",
       "      <td>42085.58</td>\n",
       "      <td>1</td>\n",
       "      <td>False</td>\n",
       "      <td>False</td>\n",
       "      <td>False</td>\n",
       "    </tr>\n",
       "    <tr>\n",
       "      <th>9998</th>\n",
       "      <td>9999</td>\n",
       "      <td>15682355</td>\n",
       "      <td>772</td>\n",
       "      <td>42</td>\n",
       "      <td>3</td>\n",
       "      <td>75075.31</td>\n",
       "      <td>2</td>\n",
       "      <td>1</td>\n",
       "      <td>0</td>\n",
       "      <td>92888.52</td>\n",
       "      <td>1</td>\n",
       "      <td>True</td>\n",
       "      <td>False</td>\n",
       "      <td>True</td>\n",
       "    </tr>\n",
       "    <tr>\n",
       "      <th>9999</th>\n",
       "      <td>10000</td>\n",
       "      <td>15628319</td>\n",
       "      <td>792</td>\n",
       "      <td>28</td>\n",
       "      <td>5</td>\n",
       "      <td>130142.79</td>\n",
       "      <td>1</td>\n",
       "      <td>1</td>\n",
       "      <td>0</td>\n",
       "      <td>38190.78</td>\n",
       "      <td>0</td>\n",
       "      <td>False</td>\n",
       "      <td>False</td>\n",
       "      <td>False</td>\n",
       "    </tr>\n",
       "  </tbody>\n",
       "</table>\n",
       "<p>10000 rows × 14 columns</p>\n",
       "</div>"
      ],
      "text/plain": [
       "      RowNumber  CustomerId  CreditScore  Age  Tenure    Balance  \\\n",
       "0             1    15634602          619   42       2       0.00   \n",
       "1             2    15647311          608   41       1   83807.86   \n",
       "2             3    15619304          502   42       8  159660.80   \n",
       "3             4    15701354          699   39       1       0.00   \n",
       "4             5    15737888          850   43       2  125510.82   \n",
       "...         ...         ...          ...  ...     ...        ...   \n",
       "9995       9996    15606229          771   39       5       0.00   \n",
       "9996       9997    15569892          516   35      10   57369.61   \n",
       "9997       9998    15584532          709   36       7       0.00   \n",
       "9998       9999    15682355          772   42       3   75075.31   \n",
       "9999      10000    15628319          792   28       5  130142.79   \n",
       "\n",
       "      NumOfProducts  HasCrCard  IsActiveMember  EstimatedSalary  Exited  \\\n",
       "0                 1          1               1        101348.88       1   \n",
       "1                 1          0               1        112542.58       0   \n",
       "2                 3          1               0        113931.57       1   \n",
       "3                 2          0               0         93826.63       0   \n",
       "4                 1          1               1         79084.10       0   \n",
       "...             ...        ...             ...              ...     ...   \n",
       "9995              2          1               0         96270.64       0   \n",
       "9996              1          1               1        101699.77       0   \n",
       "9997              1          0               1         42085.58       1   \n",
       "9998              2          1               0         92888.52       1   \n",
       "9999              1          1               0         38190.78       0   \n",
       "\n",
       "      Geography_Germany  Geography_Spain  Gender_Male  \n",
       "0                 False            False        False  \n",
       "1                 False             True        False  \n",
       "2                 False            False        False  \n",
       "3                 False            False        False  \n",
       "4                 False             True        False  \n",
       "...                 ...              ...          ...  \n",
       "9995              False            False         True  \n",
       "9996              False            False         True  \n",
       "9997              False            False        False  \n",
       "9998               True            False         True  \n",
       "9999              False            False        False  \n",
       "\n",
       "[10000 rows x 14 columns]"
      ]
     },
     "execution_count": 11,
     "metadata": {},
     "output_type": "execute_result"
    }
   ],
   "source": [
    "data_ohe = (pd.get_dummies(df.drop('Surname', axis=1),drop_first=True))\n",
    "\n",
    "data_ohe\n"
   ]
  },
  {
   "cell_type": "markdown",
   "metadata": {},
   "source": [
    "Para realizar el escalado hay determinar cuales columnas son candidatas para este, en este caso:\n",
    "    \n",
    "    'CreditScore', 'Age', 'Balance', 'NumOfProducts', 'EstimatedSalary' son columnas que se beneficiarian de un escalado pues se comportan en un cierto rango y son numericas."
   ]
  },
  {
   "cell_type": "code",
   "execution_count": 12,
   "metadata": {},
   "outputs": [
    {
     "data": {
      "text/html": [
       "<div>\n",
       "<style scoped>\n",
       "    .dataframe tbody tr th:only-of-type {\n",
       "        vertical-align: middle;\n",
       "    }\n",
       "\n",
       "    .dataframe tbody tr th {\n",
       "        vertical-align: top;\n",
       "    }\n",
       "\n",
       "    .dataframe thead th {\n",
       "        text-align: right;\n",
       "    }\n",
       "</style>\n",
       "<table border=\"1\" class=\"dataframe\">\n",
       "  <thead>\n",
       "    <tr style=\"text-align: right;\">\n",
       "      <th></th>\n",
       "      <th>CreditScore</th>\n",
       "      <th>Age</th>\n",
       "      <th>Tenure</th>\n",
       "      <th>Balance</th>\n",
       "      <th>NumOfProducts</th>\n",
       "      <th>HasCrCard</th>\n",
       "      <th>IsActiveMember</th>\n",
       "      <th>EstimatedSalary</th>\n",
       "      <th>Exited</th>\n",
       "      <th>Geography_Germany</th>\n",
       "      <th>Geography_Spain</th>\n",
       "      <th>Gender_Male</th>\n",
       "    </tr>\n",
       "  </thead>\n",
       "  <tbody>\n",
       "    <tr>\n",
       "      <th>0</th>\n",
       "      <td>-6.734251</td>\n",
       "      <td>-3.683345</td>\n",
       "      <td>-2.204503</td>\n",
       "      <td>-1.225867</td>\n",
       "      <td>-4.198207</td>\n",
       "      <td>1</td>\n",
       "      <td>1</td>\n",
       "      <td>-1.740469</td>\n",
       "      <td>1</td>\n",
       "      <td>0</td>\n",
       "      <td>0</td>\n",
       "      <td>0</td>\n",
       "    </tr>\n",
       "    <tr>\n",
       "      <th>1</th>\n",
       "      <td>-6.735429</td>\n",
       "      <td>-3.692438</td>\n",
       "      <td>-2.335790</td>\n",
       "      <td>-1.225846</td>\n",
       "      <td>-4.198207</td>\n",
       "      <td>0</td>\n",
       "      <td>1</td>\n",
       "      <td>-1.740465</td>\n",
       "      <td>0</td>\n",
       "      <td>0</td>\n",
       "      <td>1</td>\n",
       "      <td>0</td>\n",
       "    </tr>\n",
       "    <tr>\n",
       "      <th>2</th>\n",
       "      <td>-6.746776</td>\n",
       "      <td>-3.683345</td>\n",
       "      <td>-1.416780</td>\n",
       "      <td>-1.225826</td>\n",
       "      <td>1.713916</td>\n",
       "      <td>1</td>\n",
       "      <td>0</td>\n",
       "      <td>-1.740465</td>\n",
       "      <td>1</td>\n",
       "      <td>0</td>\n",
       "      <td>0</td>\n",
       "      <td>0</td>\n",
       "    </tr>\n",
       "    <tr>\n",
       "      <th>3</th>\n",
       "      <td>-6.725686</td>\n",
       "      <td>-3.710622</td>\n",
       "      <td>-2.335790</td>\n",
       "      <td>-1.225867</td>\n",
       "      <td>-1.242146</td>\n",
       "      <td>0</td>\n",
       "      <td>0</td>\n",
       "      <td>-1.740471</td>\n",
       "      <td>0</td>\n",
       "      <td>0</td>\n",
       "      <td>0</td>\n",
       "      <td>0</td>\n",
       "    </tr>\n",
       "    <tr>\n",
       "      <th>4</th>\n",
       "      <td>-6.709521</td>\n",
       "      <td>-3.674253</td>\n",
       "      <td>-2.204503</td>\n",
       "      <td>-1.225835</td>\n",
       "      <td>-4.198207</td>\n",
       "      <td>1</td>\n",
       "      <td>1</td>\n",
       "      <td>-1.740476</td>\n",
       "      <td>0</td>\n",
       "      <td>0</td>\n",
       "      <td>1</td>\n",
       "      <td>0</td>\n",
       "    </tr>\n",
       "    <tr>\n",
       "      <th>...</th>\n",
       "      <td>...</td>\n",
       "      <td>...</td>\n",
       "      <td>...</td>\n",
       "      <td>...</td>\n",
       "      <td>...</td>\n",
       "      <td>...</td>\n",
       "      <td>...</td>\n",
       "      <td>...</td>\n",
       "      <td>...</td>\n",
       "      <td>...</td>\n",
       "      <td>...</td>\n",
       "      <td>...</td>\n",
       "    </tr>\n",
       "    <tr>\n",
       "      <th>9995</th>\n",
       "      <td>-6.717978</td>\n",
       "      <td>-3.710622</td>\n",
       "      <td>-1.810641</td>\n",
       "      <td>-1.225867</td>\n",
       "      <td>-1.242146</td>\n",
       "      <td>1</td>\n",
       "      <td>0</td>\n",
       "      <td>-1.740470</td>\n",
       "      <td>0</td>\n",
       "      <td>0</td>\n",
       "      <td>0</td>\n",
       "      <td>1</td>\n",
       "    </tr>\n",
       "    <tr>\n",
       "      <th>9996</th>\n",
       "      <td>-6.745278</td>\n",
       "      <td>-3.746992</td>\n",
       "      <td>-1.154206</td>\n",
       "      <td>-1.225853</td>\n",
       "      <td>-4.198207</td>\n",
       "      <td>1</td>\n",
       "      <td>1</td>\n",
       "      <td>-1.740469</td>\n",
       "      <td>0</td>\n",
       "      <td>0</td>\n",
       "      <td>0</td>\n",
       "      <td>1</td>\n",
       "    </tr>\n",
       "    <tr>\n",
       "      <th>9997</th>\n",
       "      <td>-6.724616</td>\n",
       "      <td>-3.737899</td>\n",
       "      <td>-1.548067</td>\n",
       "      <td>-1.225867</td>\n",
       "      <td>-4.198207</td>\n",
       "      <td>0</td>\n",
       "      <td>1</td>\n",
       "      <td>-1.740487</td>\n",
       "      <td>1</td>\n",
       "      <td>0</td>\n",
       "      <td>0</td>\n",
       "      <td>0</td>\n",
       "    </tr>\n",
       "    <tr>\n",
       "      <th>9998</th>\n",
       "      <td>-6.717871</td>\n",
       "      <td>-3.683345</td>\n",
       "      <td>-2.073216</td>\n",
       "      <td>-1.225848</td>\n",
       "      <td>-1.242146</td>\n",
       "      <td>1</td>\n",
       "      <td>0</td>\n",
       "      <td>-1.740471</td>\n",
       "      <td>1</td>\n",
       "      <td>1</td>\n",
       "      <td>0</td>\n",
       "      <td>1</td>\n",
       "    </tr>\n",
       "    <tr>\n",
       "      <th>9999</th>\n",
       "      <td>-6.715730</td>\n",
       "      <td>-3.810638</td>\n",
       "      <td>-1.810641</td>\n",
       "      <td>-1.225834</td>\n",
       "      <td>-4.198207</td>\n",
       "      <td>1</td>\n",
       "      <td>0</td>\n",
       "      <td>-1.740488</td>\n",
       "      <td>0</td>\n",
       "      <td>0</td>\n",
       "      <td>0</td>\n",
       "      <td>0</td>\n",
       "    </tr>\n",
       "  </tbody>\n",
       "</table>\n",
       "<p>10000 rows × 12 columns</p>\n",
       "</div>"
      ],
      "text/plain": [
       "      CreditScore       Age    Tenure   Balance  NumOfProducts  HasCrCard  \\\n",
       "0       -6.734251 -3.683345 -2.204503 -1.225867      -4.198207          1   \n",
       "1       -6.735429 -3.692438 -2.335790 -1.225846      -4.198207          0   \n",
       "2       -6.746776 -3.683345 -1.416780 -1.225826       1.713916          1   \n",
       "3       -6.725686 -3.710622 -2.335790 -1.225867      -1.242146          0   \n",
       "4       -6.709521 -3.674253 -2.204503 -1.225835      -4.198207          1   \n",
       "...           ...       ...       ...       ...            ...        ...   \n",
       "9995    -6.717978 -3.710622 -1.810641 -1.225867      -1.242146          1   \n",
       "9996    -6.745278 -3.746992 -1.154206 -1.225853      -4.198207          1   \n",
       "9997    -6.724616 -3.737899 -1.548067 -1.225867      -4.198207          0   \n",
       "9998    -6.717871 -3.683345 -2.073216 -1.225848      -1.242146          1   \n",
       "9999    -6.715730 -3.810638 -1.810641 -1.225834      -4.198207          1   \n",
       "\n",
       "      IsActiveMember  EstimatedSalary  Exited  Geography_Germany  \\\n",
       "0                  1        -1.740469       1                  0   \n",
       "1                  1        -1.740465       0                  0   \n",
       "2                  0        -1.740465       1                  0   \n",
       "3                  0        -1.740471       0                  0   \n",
       "4                  1        -1.740476       0                  0   \n",
       "...              ...              ...     ...                ...   \n",
       "9995               0        -1.740470       0                  0   \n",
       "9996               1        -1.740469       0                  0   \n",
       "9997               1        -1.740487       1                  0   \n",
       "9998               0        -1.740471       1                  1   \n",
       "9999               0        -1.740488       0                  0   \n",
       "\n",
       "      Geography_Spain  Gender_Male  \n",
       "0                   0            0  \n",
       "1                   1            0  \n",
       "2                   0            0  \n",
       "3                   0            0  \n",
       "4                   1            0  \n",
       "...               ...          ...  \n",
       "9995                0            1  \n",
       "9996                0            1  \n",
       "9997                0            0  \n",
       "9998                0            1  \n",
       "9999                0            0  \n",
       "\n",
       "[10000 rows x 12 columns]"
      ]
     },
     "execution_count": 12,
     "metadata": {},
     "output_type": "execute_result"
    }
   ],
   "source": [
    "# Escalado de variables \n",
    "\n",
    "numeric = ['CreditScore', 'Age', 'Balance', 'NumOfProducts', 'EstimatedSalary', 'Tenure']\n",
    "scaler = StandardScaler()\n",
    "scaler.fit(data_ohe[numeric])\n",
    "data_ohe[numeric] = scaler.transform(data_ohe[numeric])\n",
    "data_ohe[numeric] = scaler.transform(data_ohe[numeric])\n",
    "\n",
    "# Resetear los índices de los DataFrames\n",
    "data_ohe.reset_index(drop=True, inplace=True)\n",
    "data_ohe.reset_index(drop=True, inplace=True)\n",
    "\n",
    "# Eliminar coummnas innecesarias para el entreno del modelo\n",
    "\n",
    "data_ohe = data_ohe.drop(['RowNumber', 'CustomerId'], axis=1)\n",
    "\n",
    "# Convertir booleanos a enteros\n",
    "data_ohe['Geography_Germany'] = data_ohe['Geography_Germany'].astype(int)\n",
    "data_ohe['Geography_Spain'] = data_ohe['Geography_Spain'].astype(int)\n",
    "data_ohe['Gender_Male'] = data_ohe['Gender_Male'].astype(int)\n",
    "\n",
    "data_ohe"
   ]
  },
  {
   "cell_type": "markdown",
   "metadata": {},
   "source": [
    "### División del dataset en training, test y validación"
   ]
  },
  {
   "cell_type": "code",
   "execution_count": 13,
   "metadata": {},
   "outputs": [
    {
     "name": "stdout",
     "output_type": "stream",
     "text": [
      "Tamaño del conjunto de entrenamiento: (6000, 12)\n",
      "Tamaño del conjunto de validación: (2000, 12)\n",
      "Tamaño del conjunto de prueba: (2000, 12)\n"
     ]
    }
   ],
   "source": [
    "# Primero, dividimos el dataset en entrenamiento y prueba\n",
    "df_train_valid, df_test = train_test_split(data_ohe, test_size=0.2, random_state=12345)\n",
    "\n",
    "# Luego, dividimos el conjunto de entrenamiento en entrenamiento y validación\n",
    "df_train, df_valid = train_test_split(df_train_valid, test_size=0.25, random_state=12345)\n",
    "\n",
    "# Verificamos los tamaños de cada conjunto\n",
    "print(\"Tamaño del conjunto de entrenamiento:\", df_train.shape)\n",
    "print(\"Tamaño del conjunto de validación:\", df_valid.shape)\n",
    "print(\"Tamaño del conjunto de prueba:\", df_test.shape)"
   ]
  },
  {
   "cell_type": "code",
   "execution_count": 14,
   "metadata": {},
   "outputs": [
    {
     "name": "stdout",
     "output_type": "stream",
     "text": [
      "      CreditScore       Age    Tenure   Balance  NumOfProducts  HasCrCard  \\\n",
      "492     -6.732110 -3.719715 -1.941928 -1.225846      -1.242146          0   \n",
      "6655    -6.741210 -3.665161 -1.810641 -1.225845      -4.198207          1   \n",
      "4287    -6.724081 -3.583330 -2.335790 -1.225842      -4.198207          1   \n",
      "42      -6.740995 -3.510592 -2.204503 -1.225837      -4.198207          1   \n",
      "8178    -6.724830 -3.646976 -1.548067 -1.225835      -1.242146          1   \n",
      "\n",
      "      IsActiveMember  EstimatedSalary  Geography_Germany  Geography_Spain  \\\n",
      "492                1        -1.740464                  0                0   \n",
      "6655               1        -1.740482                  0                0   \n",
      "4287               1        -1.740478                  1                0   \n",
      "42                 1        -1.740471                  0                0   \n",
      "8178               1        -1.740455                  0                0   \n",
      "\n",
      "      Gender_Male  \n",
      "492             0  \n",
      "6655            1  \n",
      "4287            1  \n",
      "42              0  \n",
      "8178            0  \n"
     ]
    },
    {
     "data": {
      "text/plain": [
       "(6000, 11)"
      ]
     },
     "execution_count": 14,
     "metadata": {},
     "output_type": "execute_result"
    }
   ],
   "source": [
    "# Dividiendo dataset de entrenamiento en variables independientes y variable dependiente\n",
    "features_train = df_train.drop(['Exited'], axis=1)\n",
    "targets_train = df_train['Exited']\n",
    "# Dividiendo dataset de validación en variables independientes y variable dependiente\n",
    "features_valid = df_valid.drop(['Exited'], axis=1)\n",
    "targets_valid = df_valid['Exited']\n",
    "\n",
    "print(features_train.head())\n",
    "\n",
    "features_train.shape"
   ]
  },
  {
   "cell_type": "markdown",
   "metadata": {},
   "source": [
    "Con esto ya tenemos los datos procesados y listos para entrenar el modelo, previamente codificamos y escalamos las variables para poder ser entrenadas, eliminamos algunas columna innecesarias como el numero de fila y tambien el id del cliente, así como el apellido del mismo, 3 columnas que no tienen una gran relevancia para la clasificación final."
   ]
  },
  {
   "cell_type": "markdown",
   "metadata": {},
   "source": [
    "## Entreno del modelo sin considerar un desequilibrio <a id=\"titulo_principal_3\"></a>\n",
    "\n",
    "### Uso del modelo de arbol de desición"
   ]
  },
  {
   "cell_type": "code",
   "execution_count": 15,
   "metadata": {},
   "outputs": [
    {
     "name": "stdout",
     "output_type": "stream",
     "text": [
      "Mejor exactitud en validación: 0.861 con max_depth=7 y min_samples_split=2\n"
     ]
    }
   ],
   "source": [
    "best_accuracy = 0\n",
    "best_depth = 0\n",
    "best_min_samples_split = 0\n",
    "\n",
    "for depth in range(1, 21):\n",
    "    for min_samples_split in range(2, 11):\n",
    "        model_tree = DecisionTreeClassifier(random_state=12345, max_depth=depth, min_samples_split=min_samples_split)\n",
    "        model_tree.fit(features_train, targets_train)\n",
    "        predictions_valid = model_tree.predict(features_valid)\n",
    "        accuracy = accuracy_score(targets_valid, predictions_valid)\n",
    "        if accuracy > best_accuracy:\n",
    "            best_accuracy = accuracy\n",
    "            best_depth = depth\n",
    "            best_min_samples_split = min_samples_split\n",
    "\n",
    "print(f\"Mejor exactitud en validación: {best_accuracy} con max_depth={best_depth} y min_samples_split={best_min_samples_split}\")"
   ]
  },
  {
   "cell_type": "markdown",
   "metadata": {},
   "source": [
    "El modelo que da la mejor exactitud es con max_depth=7 y min_samples_split=2 de hiper-parametros"
   ]
  },
  {
   "cell_type": "code",
   "execution_count": 16,
   "metadata": {},
   "outputs": [
    {
     "name": "stdout",
     "output_type": "stream",
     "text": [
      "F1 Score: 0.56\n",
      "AUC-ROC: 0.8284887278877288\n"
     ]
    }
   ],
   "source": [
    "model = DecisionTreeClassifier(random_state=12345, max_depth=7, min_samples_split=2)\n",
    "model.fit(features_train, targets_train)\n",
    "predicted_valid = model.predict(features_valid)\n",
    "\n",
    "# Calcular F1 Score\n",
    "f1 = f1_score(predicted_valid, targets_valid)\n",
    "print(f'F1 Score: {f1:.2f}')\n",
    "\n",
    "# Hacer predicciones de probabilidad\n",
    "y_pred_proba = model.predict_proba(features_valid)[:, 1]\n",
    "\n",
    "# Calcular el AUC-ROC\n",
    "auc_roc = roc_auc_score(targets_valid, y_pred_proba)\n",
    "print(f'AUC-ROC: {auc_roc}')\n"
   ]
  },
  {
   "cell_type": "code",
   "execution_count": 17,
   "metadata": {},
   "outputs": [
    {
     "name": "stdout",
     "output_type": "stream",
     "text": [
      "Threshold = 0.00 | Precision = 0.194, Recall = 0.972, F1 = 0.323, AUC-ROC = 0.828\n",
      "Threshold = 0.02 | Precision = 0.230, Recall = 0.964, F1 = 0.371, AUC-ROC = 0.828\n",
      "Threshold = 0.04 | Precision = 0.239, Recall = 0.951, F1 = 0.383, AUC-ROC = 0.828\n",
      "Threshold = 0.06 | Precision = 0.274, Recall = 0.928, F1 = 0.424, AUC-ROC = 0.828\n",
      "Threshold = 0.08 | Precision = 0.291, Recall = 0.895, F1 = 0.439, AUC-ROC = 0.828\n",
      "Threshold = 0.10 | Precision = 0.388, Recall = 0.816, F1 = 0.526, AUC-ROC = 0.828\n",
      "Threshold = 0.12 | Precision = 0.426, Recall = 0.780, F1 = 0.551, AUC-ROC = 0.828\n",
      "Threshold = 0.14 | Precision = 0.426, Recall = 0.780, F1 = 0.551, AUC-ROC = 0.828\n",
      "Threshold = 0.16 | Precision = 0.445, Recall = 0.749, F1 = 0.559, AUC-ROC = 0.828\n",
      "Threshold = 0.18 | Precision = 0.468, Recall = 0.714, F1 = 0.565, AUC-ROC = 0.828\n",
      "Threshold = 0.20 | Precision = 0.472, Recall = 0.706, F1 = 0.566, AUC-ROC = 0.828\n",
      "Threshold = 0.22 | Precision = 0.472, Recall = 0.706, F1 = 0.566, AUC-ROC = 0.828\n",
      "Threshold = 0.24 | Precision = 0.486, Recall = 0.685, F1 = 0.568, AUC-ROC = 0.828\n",
      "Threshold = 0.26 | Precision = 0.489, Recall = 0.685, F1 = 0.571, AUC-ROC = 0.828\n",
      "Threshold = 0.28 | Precision = 0.527, Recall = 0.655, F1 = 0.584, AUC-ROC = 0.828\n",
      "Threshold = 0.30 | Precision = 0.575, Recall = 0.575, F1 = 0.575, AUC-ROC = 0.828\n",
      "Threshold = 0.32 | Precision = 0.575, Recall = 0.575, F1 = 0.575, AUC-ROC = 0.828\n",
      "Threshold = 0.34 | Precision = 0.575, Recall = 0.575, F1 = 0.575, AUC-ROC = 0.828\n",
      "Threshold = 0.36 | Precision = 0.598, Recall = 0.547, F1 = 0.571, AUC-ROC = 0.828\n",
      "Threshold = 0.38 | Precision = 0.608, Recall = 0.517, F1 = 0.559, AUC-ROC = 0.828\n",
      "Threshold = 0.40 | Precision = 0.612, Recall = 0.517, F1 = 0.560, AUC-ROC = 0.828\n",
      "Threshold = 0.42 | Precision = 0.622, Recall = 0.514, F1 = 0.563, AUC-ROC = 0.828\n",
      "Threshold = 0.44 | Precision = 0.714, Recall = 0.453, F1 = 0.554, AUC-ROC = 0.828\n",
      "Threshold = 0.46 | Precision = 0.714, Recall = 0.453, F1 = 0.554, AUC-ROC = 0.828\n",
      "Threshold = 0.48 | Precision = 0.740, Recall = 0.445, F1 = 0.556, AUC-ROC = 0.828\n"
     ]
    }
   ],
   "source": [
    "probabilities_valid = model.predict_proba(features_valid)\n",
    "probabilities_one_valid = probabilities_valid[:, 1]\n",
    "\n",
    "for threshold in np.arange(0, 0.5, 0.02):\n",
    "    predicted_valid = probabilities_one_valid > threshold# < escribe el código aquí >\n",
    "    precision = precision_score(targets_valid, predicted_valid)# < escribe el código aquí >\n",
    "    recall = recall_score(targets_valid, predicted_valid)# < escribe el código aquí >\n",
    "    f1 = f1_score(targets_valid, predicted_valid)\n",
    "    auc_roc = roc_auc_score(targets_valid, y_pred_proba)\n",
    "\n",
    "    print(\n",
    "        'Threshold = {:.2f} | Precision = {:.3f}, Recall = {:.3f}, F1 = {:.3f}, AUC-ROC = {:.3f}'.format(\n",
    "            threshold, precision, recall, f1, auc_roc\n",
    "        )\n",
    "    )"
   ]
  },
  {
   "cell_type": "markdown",
   "metadata": {},
   "source": [
    "Como se puede observar el modelo de clasificación por arboles de desición con hiper-parametros por defecto da:\n",
    " - F1 Score: 0.49\n",
    " - AUC-ROC: 0.6880105353677126\n",
    "\n",
    "Estos numero indican que al modelo tiene un rendimiento bajo en términos de equilibrio entre precisión y sensibilidad y que tiene una capacidad moderada para distinguir entre las clases, pero puede mejorar\n",
    "\n",
    "Con el modelo que tiene los hiper-parametros que dan mejor exactitud da:\n",
    " - F1 Score: 0.56\n",
    " - AUC-ROC: 0.8284887278877288\n",
    "\n",
    "En este caso el modelo a mejorado en terminos de sensibilidad y presición pero muy poco, aunque el AUC-ROC ha mejorado bastante y esto supone que el modelo distigue mucho mejor entre clases \n",
    "\n",
    "Además el mejor F1 viene cuando el limite es 0.28:\n",
    "\n",
    "    Threshold = 0.28 | Precision = 0.527, Recall = 0.655, F1 = 0.584, AUC-ROC = 0.828"
   ]
  },
  {
   "cell_type": "markdown",
   "metadata": {},
   "source": [
    "A continuación probare con el de bosques aleatorios a ver si mejoran las metricas "
   ]
  },
  {
   "cell_type": "markdown",
   "metadata": {},
   "source": [
    "### Uso del modelo de bosque aleatorio"
   ]
  },
  {
   "cell_type": "code",
   "execution_count": 18,
   "metadata": {},
   "outputs": [
    {
     "name": "stdout",
     "output_type": "stream",
     "text": [
      "Mejor exactitud en validación: 0.867 con max_depth=9, con min_sample_split=6 y n_estimators=50\n"
     ]
    }
   ],
   "source": [
    "best_accuracy = 0\n",
    "best_depth = 0\n",
    "best_n_estimators = 0\n",
    "best_min_samples_split = 0\n",
    "for depth in range(1, 11):\n",
    "    for n_estimators in range(50, 100, 10): \n",
    "        for min_samples_split in range(2, 11):\n",
    "            model_tree = RandomForestClassifier(random_state=12345, max_depth=depth, n_estimators=n_estimators, min_samples_split = min_samples_split)\n",
    "            model_tree.fit(features_train, targets_train)\n",
    "            predictions_valid = model_tree.predict(features_valid)\n",
    "            accuracy = accuracy_score(targets_valid, predictions_valid)\n",
    "            if accuracy > best_accuracy:\n",
    "                best_accuracy = accuracy\n",
    "                best_depth = depth\n",
    "                best_n_estimators = n_estimators\n",
    "                best_min_samples_split = min_samples_split\n",
    "\n",
    "print(f\"Mejor exactitud en validación: {best_accuracy} con max_depth={best_depth}, con min_sample_split={best_min_samples_split} y n_estimators={best_n_estimators}\")"
   ]
  },
  {
   "cell_type": "code",
   "execution_count": 19,
   "metadata": {},
   "outputs": [
    {
     "name": "stdout",
     "output_type": "stream",
     "text": [
      "F1 Score: 0.58\n",
      "AUC-ROC: 0.84752884589402\n"
     ]
    }
   ],
   "source": [
    "# Ajuste de modelo con hiper-parametros mas eficientes\n",
    "model_RandomForest = RandomForestClassifier(random_state=12345, max_depth=15, min_samples_split=4, n_estimators=60)\n",
    "\n",
    "# Entrenar modelo con los datos\n",
    "model_RandomForest.fit(features_train, targets_train)\n",
    "predicted_valid = model_RandomForest.predict(features_valid)\n",
    "\n",
    "# Calcular F1 Score\n",
    "f1 = f1_score(predicted_valid, targets_valid)\n",
    "print(f'F1 Score: {f1:.2f}')\n",
    "\n",
    "# Hacer predicciones de probabilidad\n",
    "y_pred_proba = model_RandomForest.predict_proba(features_valid)[:, 1]\n",
    "\n",
    "# Calcular el AUC-ROC\n",
    "auc_roc = roc_auc_score(targets_valid, y_pred_proba)\n",
    "print(f'AUC-ROC: {auc_roc}')\n"
   ]
  },
  {
   "cell_type": "code",
   "execution_count": 20,
   "metadata": {},
   "outputs": [
    {
     "data": {
      "image/png": "[encoded data removed]",
      "text/plain": [
       "<Figure size 1200x600 with 1 Axes>"
      ]
     },
     "metadata": {},
     "output_type": "display_data"
    }
   ],
   "source": [
    "\n",
    "probabilities_valid = model_RandomForest.predict_proba(features_valid)\n",
    "probabilities_one_valid = probabilities_valid[:, 1]\n",
    "\n",
    "# Listas para almacenar las métricas en función del umbral\n",
    "thresholds = np.arange(0.2, 0.7, 0.02)\n",
    "precision_scores = []\n",
    "recall_scores = []\n",
    "f1_scores = []\n",
    "auc_roc_scores = []\n",
    "\n",
    "for threshold in thresholds:\n",
    "    predicted_valid = probabilities_one_valid > threshold\n",
    "    precision = precision_score(targets_valid, predicted_valid)\n",
    "    recall = recall_score(targets_valid, predicted_valid)\n",
    "    f1 = f1_score(targets_valid, predicted_valid)\n",
    "    auc_roc = roc_auc_score(targets_valid, probabilities_one_valid)\n",
    "    \n",
    "    precision_scores.append(precision)\n",
    "    recall_scores.append(recall)\n",
    "    f1_scores.append(f1)\n",
    "    auc_roc_scores.append(auc_roc)\n",
    "\n",
    "# Crear el gráfico\n",
    "plt.figure(figsize=(12, 6))\n",
    "plt.plot(thresholds, precision_scores, label='Precision')\n",
    "plt.plot(thresholds, recall_scores, label='Recall')\n",
    "plt.plot(thresholds, f1_scores, label='F1 Score')\n",
    "plt.plot(thresholds, auc_roc_scores, label='AUC-ROC')\n",
    "\n",
    "plt.xlabel('Threshold')\n",
    "plt.ylabel('Score')\n",
    "plt.title('Metrics at Different Thresholds')\n",
    "plt.legend()\n",
    "plt.grid(True)\n",
    "plt.show()\n"
   ]
  },
  {
   "cell_type": "markdown",
   "metadata": {},
   "source": [
    "En este caso la situación mejora, con la mejor exactitud en validación: 0.8695 con max_depth=15, con min_sample_split=4 y n_estimators=60 devuelve un:\n",
    " - F1 Score: 0.58\n",
    " - AUC-ROC: 0.84752884589402\n",
    "\n",
    "Además, si iteramos en diversos limites mejora aún más:\n",
    "\n",
    "    Threshold = 0.38 | Precision = 0.653, Recall = 0.563, F1 = 0.604, AUC-ROC = 0.848\n",
    "\n",
    "Esto ya supera umbral requerido pero se puede mejorar con un ajuste con la corrección de desequilibrio de clases"
   ]
  },
  {
   "cell_type": "markdown",
   "metadata": {},
   "source": [
    "## Mejora del modelo <a id=\"titulo_principal_4\"></a>"
   ]
  },
  {
   "cell_type": "code",
   "execution_count": 21,
   "metadata": {},
   "outputs": [
    {
     "data": {
      "image/png": "[encoded data removed]",
      "text/plain": [
       "<Figure size 640x480 with 1 Axes>"
      ]
     },
     "metadata": {},
     "output_type": "display_data"
    }
   ],
   "source": [
    "# Visualizar la distribución de clases\n",
    "sns.countplot(x='Exited', data=df)\n",
    "plt.title('Distribución de la Variable Objetivo')\n",
    "plt.show()"
   ]
  },
  {
   "cell_type": "code",
   "execution_count": 22,
   "metadata": {},
   "outputs": [
    {
     "name": "stdout",
     "output_type": "stream",
     "text": [
      "Exited\n",
      "0    7963\n",
      "1    2037\n",
      "Name: count, dtype: int64\n"
     ]
    }
   ],
   "source": [
    "# Distribución de la variable objetivo\n",
    "class_distribution = df['Exited'].value_counts()\n",
    "\n",
    "print(class_distribution)"
   ]
  },
  {
   "cell_type": "markdown",
   "metadata": {},
   "source": [
    "Veo un desequilibrio my claro de clases, las personas que no se han ido son muchisimo más comunes, en la proporción siguiente:\n",
    "\n",
    "    0  :  7963\n",
    "    \n",
    "    1  :  2037\n"
   ]
  },
  {
   "cell_type": "markdown",
   "metadata": {},
   "source": [
    "### Sobremuestreo\n",
    "\n",
    "Utilizare 'data_ohe' que es el dataset donde ya escale y clasifique los datos"
   ]
  },
  {
   "cell_type": "code",
   "execution_count": 23,
   "metadata": {},
   "outputs": [],
   "source": [
    "# Calculando las veces que se debe de multiplicar las carcteristicas con valor de 1 para ser balanceada\n",
    "\n",
    "ones = data_ohe['Exited'][data_ohe['Exited'] == 1].count()\n",
    "zeros = data_ohe['Exited'][data_ohe['Exited'] == 0].count()\n",
    "\n",
    "repeat = zeros/ones\n"
   ]
  },
  {
   "cell_type": "code",
   "execution_count": 24,
   "metadata": {},
   "outputs": [
    {
     "name": "stdout",
     "output_type": "stream",
     "text": [
      "(9546, 11)\n",
      "(9546,)\n"
     ]
    }
   ],
   "source": [
    "#  Esta función multiplica la caracteristica rara para balanceo de clases\n",
    "\n",
    "def upsample(features, target, repeat):\n",
    "    features_zeros = features[target == 0]\n",
    "    features_ones = features[target == 1]\n",
    "    target_zeros = target[target == 0]\n",
    "    target_ones = target[target == 1]\n",
    "    \n",
    "    repeat_int = int(zeros/ones)\n",
    "\n",
    "    # Parte fraccionaria de repeat\n",
    "    repeat_frac = repeat - repeat_int\n",
    "    \n",
    "    arg1 = pd.concat([features_zeros] + [features_ones] * repeat_int)\n",
    "    arg2 = pd.concat([target_zeros] + [target_ones] * repeat_int)\n",
    "    \n",
    "    \n",
    "    # Sobremuestreo con la parte fraccionaria\n",
    "    if repeat_frac > 0:\n",
    "        frac_sample = features_ones.sample(frac=repeat_frac, random_state=12345)\n",
    "        frac_target = target_ones.sample(frac=repeat_frac, random_state=12345)\n",
    "        upsampled_features = pd.concat([arg1, frac_sample])\n",
    "        upsampled_target = pd.concat([arg2, frac_target])\n",
    "        \n",
    "    features_upsampled, target_upsampled = shuffle(upsampled_features, upsampled_target, random_state=12345)\n",
    "  \n",
    "    return features_upsampled, target_upsampled\n",
    "\n",
    "features_upsampled, target_upsampled = upsample(features_train, targets_train, repeat)\n",
    "\n",
    "print(features_upsampled.shape)\n",
    "print(target_upsampled.shape)"
   ]
  },
  {
   "cell_type": "code",
   "execution_count": 25,
   "metadata": {},
   "outputs": [
    {
     "name": "stdout",
     "output_type": "stream",
     "text": [
      "Exited\n",
      "0    4781\n",
      "1    4765\n",
      "Name: count, dtype: int64\n"
     ]
    }
   ],
   "source": [
    "# Chequeo de balance\n",
    "\n",
    "# Distribución de la variable objetivo\n",
    "class_distribution = target_upsampled.value_counts()\n",
    "print(class_distribution)"
   ]
  },
  {
   "cell_type": "code",
   "execution_count": 5,
   "metadata": {},
   "outputs": [
    {
     "ename": "ModuleNotFoundError",
     "evalue": "No module named 'imblearn'",
     "output_type": "error",
     "traceback": [
      "\u001b[1;31m---------------------------------------------------------------------------\u001b[0m",
      "\u001b[1;31mModuleNotFoundError\u001b[0m                       Traceback (most recent call last)",
      "Cell \u001b[1;32mIn[5], line 4\u001b[0m\n\u001b[0;32m      2\u001b[0m \u001b[38;5;28;01mfrom\u001b[39;00m \u001b[38;5;21;01msklearn\u001b[39;00m\u001b[38;5;21;01m.\u001b[39;00m\u001b[38;5;21;01mpreprocessing\u001b[39;00m \u001b[38;5;28;01mimport\u001b[39;00m MaxAbsScaler\n\u001b[0;32m      3\u001b[0m \u001b[38;5;28;01mfrom\u001b[39;00m \u001b[38;5;21;01msklearn\u001b[39;00m\u001b[38;5;21;01m.\u001b[39;00m\u001b[38;5;21;01mmetrics\u001b[39;00m \u001b[38;5;28;01mimport\u001b[39;00m f1_score\n\u001b[1;32m----> 4\u001b[0m \u001b[38;5;28;01mfrom\u001b[39;00m \u001b[38;5;21;01mimblearn\u001b[39;00m\u001b[38;5;21;01m.\u001b[39;00m\u001b[38;5;21;01mover_sampling\u001b[39;00m \u001b[38;5;28;01mimport\u001b[39;00m SMOTE\n\u001b[0;32m      5\u001b[0m \u001b[38;5;28;01mimport\u001b[39;00m \u001b[38;5;21;01mpandas\u001b[39;00m \u001b[38;5;28;01mas\u001b[39;00m \u001b[38;5;21;01mpd\u001b[39;00m\n\u001b[0;32m      7\u001b[0m \u001b[38;5;66;03m# Suponiendo que features_train, target_train, features_valid y targets_valid están definidos\u001b[39;00m\n\u001b[0;32m      8\u001b[0m \n\u001b[0;32m      9\u001b[0m \u001b[38;5;66;03m# Escalar los datos\u001b[39;00m\n",
      "\u001b[1;31mModuleNotFoundError\u001b[0m: No module named 'imblearn'"
     ]
    }
   ],
   "source": [
    "from sklearn.neighbors import KNeighborsClassifier\n",
    "from sklearn.preprocessing import MaxAbsScaler\n",
    "from sklearn.metrics import f1_score\n",
    "from imblearn.over_sampling import SMOTE\n",
    "import pandas as pd\n",
    "\n",
    "# Suponiendo que features_train, target_train, features_valid y targets_valid están definidos\n",
    "\n",
    "# Escalar los datos\n",
    "scaler = MaxAbsScaler()\n",
    "features_train_scaled = scaler.fit_transform(features_train)\n",
    "features_valid_scaled = scaler.transform(features_valid)\n",
    "\n",
    "# Sobremuestreo utilizando SMOTE en los datos escalados\n",
    "smote = SMOTE(random_state=42)\n",
    "features_upsampled_scaled, target_upsampled = smote.fit_resample(features_train_scaled, targets_train)\n",
    "\n",
    "# Entrenamiento del modelo KNN sin escalar (usando datos originales para comparación)\n",
    "results = []\n",
    "for k in range(1, 11):\n",
    "    model = KNeighborsClassifier(n_neighbors=k)\n",
    "    model.fit(features_train, targets_train)\n",
    "    predictions = model.predict(features_valid)\n",
    "    f1 = f1_score(targets_valid, predictions)\n",
    "    results.append({'k': k, 'F1 (original)': f1})\n",
    "\n",
    "# Entrenamiento del modelo KNN con características escaladas y sobremuestreo\n",
    "for k in range(1, 11):\n",
    "    model = KNeighborsClassifier(n_neighbors=k)\n",
    "    model.fit(features_upsampled_scaled, target_upsampled)\n",
    "    predictions = model.predict(features_valid_scaled)\n",
    "    f1 = f1_score(targets_valid, predictions)\n",
    "    results[k-1]['F1 (scaled)'] = f1\n",
    "\n",
    "# Convertir los resultados a DataFrame para visualización\n",
    "results_df = pd.DataFrame(results)\n",
    "print(results_df)\n"
   ]
  },
  {
   "cell_type": "markdown",
   "metadata": {},
   "source": [
    "Con esto confirmamos que estan balanceadas las clases y pasamos a los modelos"
   ]
  },
  {
   "cell_type": "markdown",
   "metadata": {},
   "source": [
    "#### Modelo de bosque aleatorio (Con clases balanceadas)"
   ]
  },
  {
   "cell_type": "code",
   "execution_count": 26,
   "metadata": {},
   "outputs": [
    {
     "name": "stdout",
     "output_type": "stream",
     "text": [
      "Mejor exactitud en validación: 0.824 con max_depth=10, con min_sample_split=4 y n_estimators=50\n"
     ]
    }
   ],
   "source": [
    "best_accuracy = 0\n",
    "best_depth = 0\n",
    "best_n_estimators = 0\n",
    "best_min_samples_split = 0\n",
    "for depth in range(1, 11):\n",
    "    for n_estimators in range(50, 100, 10): \n",
    "        for min_samples_split in range(2, 11):\n",
    "            model_tree = RandomForestClassifier(random_state=12345, max_depth=depth, n_estimators=n_estimators, min_samples_split = min_samples_split)\n",
    "            model_tree.fit(features_upsampled, target_upsampled)\n",
    "            predictions_valid = model_tree.predict(features_valid)\n",
    "            accuracy = accuracy_score(targets_valid, predictions_valid)\n",
    "            if accuracy > best_accuracy:\n",
    "                best_accuracy = accuracy\n",
    "                best_depth = depth\n",
    "                best_n_estimators = n_estimators\n",
    "                best_min_samples_split = min_samples_split\n",
    "\n",
    "print(f\"Mejor exactitud en validación: {best_accuracy} con max_depth={best_depth}, con min_sample_split={best_min_samples_split} y n_estimators={best_n_estimators}\")"
   ]
  },
  {
   "cell_type": "markdown",
   "metadata": {},
   "source": [
    "El modelo con mejor exactitud y parametros no mejoro el que fue entrenado con los datos sin balancear clases, veamos si mejora f1 y AUC-ROC"
   ]
  },
  {
   "cell_type": "code",
   "execution_count": 27,
   "metadata": {},
   "outputs": [
    {
     "name": "stdout",
     "output_type": "stream",
     "text": [
      "F1 Score: 0.60\n",
      "AUC-ROC: 0.8526351930238953\n"
     ]
    }
   ],
   "source": [
    "# Ajuste de modelo con hiper-parametros mas eficientes\n",
    "model_RandomForest = RandomForestClassifier(random_state=12345, max_depth=10, min_samples_split=4, n_estimators=50)\n",
    "\n",
    "# Entrenar modelo con los datos\n",
    "model_RandomForest.fit(features_upsampled, target_upsampled)\n",
    "predicted_valid = model_RandomForest.predict(features_valid)\n",
    "\n",
    "# Calcular F1 Score\n",
    "f1 = f1_score(predicted_valid, targets_valid)\n",
    "print(f'F1 Score: {f1:.2f}')\n",
    "\n",
    "# Hacer predicciones de probabilidad\n",
    "y_pred_proba = model_RandomForest.predict_proba(features_valid)[:, 1]\n",
    "\n",
    "# Calcular el AUC-ROC\n",
    "auc_roc = roc_auc_score(targets_valid, y_pred_proba)\n",
    "print(f'AUC-ROC: {auc_roc}')\n"
   ]
  },
  {
   "cell_type": "markdown",
   "metadata": {},
   "source": [
    "#### Ajuste del umbral"
   ]
  },
  {
   "cell_type": "code",
   "execution_count": 28,
   "metadata": {},
   "outputs": [
    {
     "data": {
      "image/png": "[encoded data removed]",
      "text/plain": [
       "<Figure size 1200x600 with 1 Axes>"
      ]
     },
     "metadata": {},
     "output_type": "display_data"
    }
   ],
   "source": [
    "probabilities_valid = model_RandomForest.predict_proba(features_valid)\n",
    "probabilities_one_valid = probabilities_valid[:, 1]\n",
    "\n",
    "# Listas para almacenar las métricas en función del umbral\n",
    "thresholds = np.arange(0.2, 0.7, 0.02)\n",
    "precision_scores = []\n",
    "recall_scores = []\n",
    "f1_scores = []\n",
    "auc_roc_scores = []\n",
    "\n",
    "for threshold in thresholds:\n",
    "    predicted_valid = probabilities_one_valid > threshold\n",
    "    precision = precision_score(targets_valid, predicted_valid)\n",
    "    recall = recall_score(targets_valid, predicted_valid)\n",
    "    f1 = f1_score(targets_valid, predicted_valid)\n",
    "    auc_roc = roc_auc_score(targets_valid, probabilities_one_valid)\n",
    "    \n",
    "    precision_scores.append(precision)\n",
    "    recall_scores.append(recall)\n",
    "    f1_scores.append(f1)\n",
    "    auc_roc_scores.append(auc_roc)\n",
    "\n",
    "# Crear el gráfico\n",
    "plt.figure(figsize=(12, 6))\n",
    "plt.plot(thresholds, precision_scores, label='Precision')\n",
    "plt.plot(thresholds, recall_scores, label='Recall')\n",
    "plt.plot(thresholds, f1_scores, label='F1 Score')\n",
    "plt.plot(thresholds, auc_roc_scores, label='AUC-ROC')\n",
    "\n",
    "plt.xlabel('Threshold')\n",
    "plt.ylabel('Score')\n",
    "plt.title('Metrics at Different Thresholds')\n",
    "plt.legend()\n",
    "plt.grid(True)\n",
    "plt.show()\n"
   ]
  },
  {
   "cell_type": "markdown",
   "metadata": {},
   "source": [
    "Este modelo sin ajuste de umbral mejora al modelo que no tenia las clases balanceadas: \n",
    "\n",
    "**Modelo sin clases balanceada** \n",
    "- F1 Score: 0.58\n",
    "- AUC-ROC: 0.84752884589402\n",
    "\n",
    "**Modelo con clases balanceada** \n",
    "- F1 Score: 0.60\n",
    "- AUC-ROC: 0.8526351930238953\n",
    "\n",
    "Además mostrare ambas con el mejor umbral:\n",
    "\n",
    "**Modelo sin clases balanceada** \n",
    "\n",
    "    Threshold = 0.38 | Precision = 0.653, Recall = 0.563, F1 = 0.604, AUC-ROC = 0.848\n",
    "\n",
    "**Modelo con clases balanceada** \n",
    "\n",
    "    Threshold = 0.54 | Precision = 0.579, Recall = 0.639, F1 = 0.608, AUC-ROC = 0.853"
   ]
  },
  {
   "cell_type": "markdown",
   "metadata": {},
   "source": [
    "A continuación usare el metodo de 'Ajuste de pesos de clase' para observar si mejora las metricas\n",
    "\n",
    "Usare los datos sin utilizar el 'sobremuestreo'o sea, features_train y targets_train para entrenar el modelo"
   ]
  },
  {
   "cell_type": "markdown",
   "metadata": {},
   "source": [
    "#### Ajuste de pesos de clase\n",
    "\n"
   ]
  },
  {
   "cell_type": "code",
   "execution_count": 29,
   "metadata": {},
   "outputs": [
    {
     "name": "stdout",
     "output_type": "stream",
     "text": [
      "Mejor exactitud en validación: 0.841 con max_depth=10, con min_sample_split=2 y n_estimators=60\n"
     ]
    }
   ],
   "source": [
    "best_accuracy = 0\n",
    "best_depth = 0\n",
    "best_n_estimators = 0\n",
    "best_min_samples_split = 0\n",
    "for depth in range(1, 11):\n",
    "    for n_estimators in range(50, 100, 10): \n",
    "        for min_samples_split in range(2, 11):\n",
    "            # Coloco el ajuste de peso de clase\n",
    "            model_tree = RandomForestClassifier(class_weight='balanced', random_state=12345, max_depth=depth, n_estimators=n_estimators, min_samples_split = min_samples_split)\n",
    "            model_tree.fit(features_train, targets_train)\n",
    "            predictions_valid = model_tree.predict(features_valid)\n",
    "            accuracy = accuracy_score(targets_valid, predictions_valid)\n",
    "            if accuracy > best_accuracy:\n",
    "                best_accuracy = accuracy\n",
    "                best_depth = depth\n",
    "                best_n_estimators = n_estimators\n",
    "                best_min_samples_split = min_samples_split\n",
    "\n",
    "print(f\"Mejor exactitud en validación: {best_accuracy} con max_depth={best_depth}, con min_sample_split={best_min_samples_split} y n_estimators={best_n_estimators}\")"
   ]
  },
  {
   "cell_type": "code",
   "execution_count": 30,
   "metadata": {},
   "outputs": [
    {
     "name": "stdout",
     "output_type": "stream",
     "text": [
      "F1 Score: 0.59\n",
      "AUC-ROC: 0.8481209437324259\n"
     ]
    }
   ],
   "source": [
    "# Ajuste de modelo con hiper-parametros mas eficientes\n",
    "model_RandomForest = RandomForestClassifier(class_weight='balanced', random_state=12345, max_depth=10, min_samples_split=4, n_estimators=60)\n",
    "\n",
    "# Entrenar modelo con los datos\n",
    "model_RandomForest.fit(features_train, targets_train)\n",
    "predicted_valid = model_RandomForest.predict(features_valid)\n",
    "\n",
    "# Calcular F1 Score\n",
    "f1 = f1_score(predicted_valid, targets_valid)\n",
    "print(f'F1 Score: {f1:.2f}')\n",
    "\n",
    "# Hacer predicciones de probabilidad\n",
    "y_pred_proba = model_RandomForest.predict_proba(features_valid)[:, 1]\n",
    "\n",
    "# Calcular el AUC-ROC\n",
    "auc_roc = roc_auc_score(targets_valid, y_pred_proba)\n",
    "print(f'AUC-ROC: {auc_roc}')\n"
   ]
  },
  {
   "cell_type": "code",
   "execution_count": 31,
   "metadata": {},
   "outputs": [
    {
     "data": {
      "image/png": "[encoded data removed]",
      "text/plain": [
       "<Figure size 1200x600 with 1 Axes>"
      ]
     },
     "metadata": {},
     "output_type": "display_data"
    }
   ],
   "source": [
    "probabilities_valid = model_RandomForest.predict_proba(features_valid)\n",
    "probabilities_one_valid = probabilities_valid[:, 1]\n",
    "\n",
    "# Listas para almacenar las métricas en función del umbral\n",
    "thresholds = np.arange(0.2, 0.7, 0.02)\n",
    "precision_scores = []\n",
    "recall_scores = []\n",
    "f1_scores = []\n",
    "auc_roc_scores = []\n",
    "\n",
    "for threshold in thresholds:\n",
    "    predicted_valid = probabilities_one_valid > threshold\n",
    "    precision = precision_score(targets_valid, predicted_valid)\n",
    "    recall = recall_score(targets_valid, predicted_valid)\n",
    "    f1 = f1_score(targets_valid, predicted_valid)\n",
    "    auc_roc = roc_auc_score(targets_valid, probabilities_one_valid)\n",
    "    \n",
    "    precision_scores.append(precision)\n",
    "    recall_scores.append(recall)\n",
    "    f1_scores.append(f1)\n",
    "    auc_roc_scores.append(auc_roc)\n",
    "\n",
    "# Crear el gráfico\n",
    "plt.figure(figsize=(12, 6))\n",
    "plt.plot(thresholds, precision_scores, label='Precision')\n",
    "plt.plot(thresholds, recall_scores, label='Recall')\n",
    "plt.plot(thresholds, f1_scores, label='F1 Score')\n",
    "plt.plot(thresholds, auc_roc_scores, label='AUC-ROC')\n",
    "\n",
    "plt.xlabel('Threshold')\n",
    "plt.ylabel('Score')\n",
    "plt.title('Metrics at Different Thresholds')\n",
    "plt.legend()\n",
    "plt.grid(True)\n",
    "plt.show()\n"
   ]
  },
  {
   "cell_type": "markdown",
   "metadata": {},
   "source": [
    "El uso de ajustes de peso de clase no mejora al de sobremuestreo en el caso del modelo de bosque aleatorio\n",
    "\n",
    "\n",
    "    Threshold = 0.46 | Precision = 0.549, Recall = 0.647, F1 = 0.594, AUC-ROC = 0.848"
   ]
  },
  {
   "cell_type": "markdown",
   "metadata": {},
   "source": [
    "#### Modelo de regresión logistica (Con clases balanceadas)"
   ]
  },
  {
   "cell_type": "code",
   "execution_count": 32,
   "metadata": {},
   "outputs": [
    {
     "name": "stdout",
     "output_type": "stream",
     "text": [
      "Mejores parámetros: {'C': 100, 'solver': 'liblinear'}\n",
      "Mejor exactitud en validación (con CV): 0.701864741003623\n"
     ]
    }
   ],
   "source": [
    "# Definir la búsqueda en cuadrícula de parámetros\n",
    "param_grid = {\n",
    "    'C': [0.01, 0.1, 1, 10, 100],\n",
    "    'solver': ['liblinear', 'lbfgs', 'newton-cg', 'sag', 'saga']\n",
    "}\n",
    "\n",
    "model_logisticReg = LogisticRegression(random_state=12345, max_iter=10000)\n",
    "\n",
    "# Configurar GridSearchCV\n",
    "grid_search = GridSearchCV(estimator=model_logisticReg, param_grid=param_grid, cv=5, scoring='accuracy')\n",
    "\n",
    "# Ejecutar la búsqueda en cuadrícula\n",
    "grid_search.fit(features_upsampled, target_upsampled)\n",
    "\n",
    "# Obtener los mejores parámetros y la mejor exactitud\n",
    "best_params = grid_search.best_params_\n",
    "best_accuracy = grid_search.best_score_\n",
    "\n",
    "print(f\"Mejores parámetros: {best_params}\")\n",
    "print(f\"Mejor exactitud en validación (con CV): {best_accuracy}\")"
   ]
  },
  {
   "cell_type": "code",
   "execution_count": 33,
   "metadata": {},
   "outputs": [
    {
     "name": "stdout",
     "output_type": "stream",
     "text": [
      "F1 Score: 0.49\n",
      "AUC-ROC: 0.7743431687804693\n"
     ]
    }
   ],
   "source": [
    "# Ajuste de modelo con hiper-parametros mas eficientes\n",
    "model_logisticReg = LogisticRegression(random_state=12345, max_iter=10000,C= 100, solver='liblinear')\n",
    "\n",
    "\n",
    "# Entrenar modelo con los datos\n",
    "model_logisticReg.fit(features_upsampled, target_upsampled)\n",
    "predicted_valid = model_logisticReg.predict(features_valid)\n",
    "\n",
    "# Calcular F1 Score\n",
    "f1 = f1_score(predicted_valid, targets_valid)\n",
    "print(f'F1 Score: {f1:.2f}')\n",
    "\n",
    "# Hacer predicciones de probabilidad\n",
    "y_pred_proba = model_logisticReg.predict_proba(features_valid)[:, 1]\n",
    "\n",
    "# Calcular el AUC-ROC\n",
    "auc_roc = roc_auc_score(targets_valid, y_pred_proba)\n",
    "print(f'AUC-ROC: {auc_roc}')"
   ]
  },
  {
   "cell_type": "code",
   "execution_count": 34,
   "metadata": {},
   "outputs": [
    {
     "data": {
      "image/png": "[encoded data removed]",
      "text/plain": [
       "<Figure size 1200x600 with 1 Axes>"
      ]
     },
     "metadata": {},
     "output_type": "display_data"
    }
   ],
   "source": [
    "\n",
    "probabilities_valid = model_logisticReg.predict_proba(features_valid)\n",
    "probabilities_one_valid = probabilities_valid[:, 1]\n",
    "\n",
    "# Listas para almacenar las métricas en función del umbral\n",
    "thresholds = np.arange(0.2, 0.7, 0.02)\n",
    "precision_scores = []\n",
    "recall_scores = []\n",
    "f1_scores = []\n",
    "auc_roc_scores = []\n",
    "\n",
    "for threshold in thresholds:\n",
    "    predicted_valid = probabilities_one_valid > threshold\n",
    "    precision = precision_score(targets_valid, predicted_valid)\n",
    "    recall = recall_score(targets_valid, predicted_valid)\n",
    "    f1 = f1_score(targets_valid, predicted_valid)\n",
    "    auc_roc = roc_auc_score(targets_valid, probabilities_one_valid)\n",
    "    \n",
    "    precision_scores.append(precision)\n",
    "    recall_scores.append(recall)\n",
    "    f1_scores.append(f1)\n",
    "    auc_roc_scores.append(auc_roc)\n",
    "\n",
    "# Crear el gráfico\n",
    "plt.figure(figsize=(12, 6))\n",
    "plt.plot(thresholds, precision_scores, label='Precision')\n",
    "plt.plot(thresholds, recall_scores, label='Recall')\n",
    "plt.plot(thresholds, f1_scores, label='F1 Score')\n",
    "plt.plot(thresholds, auc_roc_scores, label='AUC-ROC')\n",
    "\n",
    "plt.xlabel('Threshold')\n",
    "plt.ylabel('Score')\n",
    "plt.title('Metrics at Different Thresholds')\n",
    "plt.legend()\n",
    "plt.grid(True)\n",
    "plt.show()\n"
   ]
  },
  {
   "cell_type": "markdown",
   "metadata": {},
   "source": [
    "El modelo de regresión logistica no llega a mejorar al modelo de bosques aleaotrios con clases balnceadas, estos son los valores que arroja el mejor modelo:\n",
    "\n",
    "- F1 Score: 0.49\n",
    "- AUC-ROC: 0.7743431687804693\n",
    "\n",
    "Probare ahora con el parametro 'class_weight'"
   ]
  },
  {
   "cell_type": "code",
   "execution_count": 35,
   "metadata": {},
   "outputs": [
    {
     "name": "stdout",
     "output_type": "stream",
     "text": [
      "F1 Score: 0.49\n",
      "AUC-ROC: 0.7743781383172341\n"
     ]
    }
   ],
   "source": [
    "# Ajuste de modelo con hiper-parametros mas eficientes\n",
    "model_logisticReg = LogisticRegression(class_weight='balanced', random_state=12345, max_iter=10000,C= 100, solver='liblinear')\n",
    "\n",
    "\n",
    "# Entrenar modelo con los datos\n",
    "model_logisticReg.fit(features_train, targets_train)\n",
    "predicted_valid = model_logisticReg.predict(features_valid)\n",
    "\n",
    "# Calcular F1 Score\n",
    "f1 = f1_score(predicted_valid, targets_valid)\n",
    "print(f'F1 Score: {f1:.2f}')\n",
    "\n",
    "# Hacer predicciones de probabilidad\n",
    "y_pred_proba = model_logisticReg.predict_proba(features_valid)[:, 1]\n",
    "\n",
    "# Calcular el AUC-ROC\n",
    "auc_roc = roc_auc_score(targets_valid, y_pred_proba)\n",
    "print(f'AUC-ROC: {auc_roc}')"
   ]
  },
  {
   "cell_type": "markdown",
   "metadata": {},
   "source": [
    "Da un resultado muy similar, por lo tanto concluimos que no llega a ser tan buen modelo"
   ]
  },
  {
   "cell_type": "markdown",
   "metadata": {},
   "source": [
    "#### Modelo de arbol de desición (Con clases balanceadas)"
   ]
  },
  {
   "cell_type": "code",
   "execution_count": 36,
   "metadata": {},
   "outputs": [
    {
     "name": "stdout",
     "output_type": "stream",
     "text": [
      "Mejor exactitud en validación: 0.801 con max_depth=22 y min_samples_split=5\n"
     ]
    }
   ],
   "source": [
    "best_accuracy = 0\n",
    "best_depth = 0\n",
    "best_min_samples_split = 0\n",
    "\n",
    "for depth in range(1, 25):\n",
    "    for min_samples_split in range(2, 25):\n",
    "        model_tree = DecisionTreeClassifier(random_state=12345, max_depth=depth, min_samples_split=min_samples_split)\n",
    "        model_tree.fit(features_upsampled, target_upsampled)\n",
    "        predictions_valid = model_tree.predict(features_valid)\n",
    "        accuracy = accuracy_score(targets_valid, predictions_valid)\n",
    "        if accuracy > best_accuracy:\n",
    "            best_accuracy = accuracy\n",
    "            best_depth = depth\n",
    "            best_min_samples_split = min_samples_split\n",
    "\n",
    "print(f\"Mejor exactitud en validación: {best_accuracy} con max_depth={best_depth} y min_samples_split={best_min_samples_split}\")"
   ]
  },
  {
   "cell_type": "code",
   "execution_count": 37,
   "metadata": {},
   "outputs": [
    {
     "name": "stdout",
     "output_type": "stream",
     "text": [
      "F1 Score: 0.49\n",
      "AUC-ROC: 0.6821952603561489\n"
     ]
    }
   ],
   "source": [
    "model = DecisionTreeClassifier(random_state=12345, max_depth=22, min_samples_split=5)\n",
    "model.fit(features_upsampled, target_upsampled)\n",
    "predicted_valid = model.predict(features_valid)\n",
    "\n",
    "# Calcular F1 Score\n",
    "f1 = f1_score(predicted_valid, targets_valid)\n",
    "print(f'F1 Score: {f1:.2f}')\n",
    "\n",
    "# Hacer predicciones de probabilidad\n",
    "y_pred_proba = model.predict_proba(features_valid)[:, 1]\n",
    "\n",
    "# Calcular el AUC-ROC\n",
    "auc_roc = roc_auc_score(targets_valid, y_pred_proba)\n",
    "print(f'AUC-ROC: {auc_roc}')"
   ]
  },
  {
   "cell_type": "markdown",
   "metadata": {},
   "source": [
    "Este modelo con clases balanceadas es el peor hasta hoara con:\n",
    " - F1 Score: 0.49\n",
    " - AUC-ROC: 0.6821952603561489\n",
    "\n",
    "Ahora lo hare con el metodo de 'Ajustes de peso de clase'"
   ]
  },
  {
   "cell_type": "code",
   "execution_count": 38,
   "metadata": {},
   "outputs": [
    {
     "name": "stdout",
     "output_type": "stream",
     "text": [
      "Mejor exactitud en validación: 0.861 con max_depth=7 y min_samples_split=2\n"
     ]
    }
   ],
   "source": [
    "best_accuracy = 0\n",
    "best_depth = 0\n",
    "best_min_samples_split = 0\n",
    "\n",
    "for depth in range(1, 25):\n",
    "    for min_samples_split in range(2, 25):\n",
    "        model_tree = DecisionTreeClassifier(random_state=12345, max_depth=depth, min_samples_split=min_samples_split)\n",
    "        model_tree.fit(features_train, targets_train)\n",
    "        predictions_valid = model_tree.predict(features_valid)\n",
    "        accuracy = accuracy_score(targets_valid, predictions_valid)\n",
    "        if accuracy > best_accuracy:\n",
    "            best_accuracy = accuracy\n",
    "            best_depth = depth\n",
    "            best_min_samples_split = min_samples_split\n",
    "\n",
    "print(f\"Mejor exactitud en validación: {best_accuracy} con max_depth={best_depth} y min_samples_split={best_min_samples_split}\")"
   ]
  },
  {
   "cell_type": "code",
   "execution_count": 39,
   "metadata": {},
   "outputs": [
    {
     "name": "stdout",
     "output_type": "stream",
     "text": [
      "F1 Score: 0.56\n",
      "AUC-ROC: 0.8083391218513508\n"
     ]
    }
   ],
   "source": [
    "model = DecisionTreeClassifier(class_weight='balanced', random_state=12345, max_depth=7, min_samples_split=2)\n",
    "model.fit(features_train, targets_train)\n",
    "predicted_valid = model.predict(features_valid)\n",
    "\n",
    "# Calcular F1 Score\n",
    "f1 = f1_score(predicted_valid, targets_valid)\n",
    "print(f'F1 Score: {f1:.2f}')\n",
    "\n",
    "# Hacer predicciones de probabilidad\n",
    "y_pred_proba = model.predict_proba(features_valid)[:, 1]\n",
    "\n",
    "# Calcular el AUC-ROC\n",
    "auc_roc = roc_auc_score(targets_valid, y_pred_proba)\n",
    "print(f'AUC-ROC: {auc_roc}')"
   ]
  },
  {
   "cell_type": "markdown",
   "metadata": {},
   "source": [
    "Cierro este apartado del proyecto con las siguientes observaciones:\n",
    "\n",
    "- Al utilizar las caracteristicas y targets con el balance de clases siempre se reduce la exactitud a cambio de mejorar f1 y AUC-ROC\n",
    "- El mejor modelo fue el de Bosques aleatorios usando el balance de clases que dio:\n",
    "\n",
    "       Threshold = 0.54 | Precision = 0.579, Recall = 0.639, F1 = 0.608, AUC-ROC = 0.853\n",
    "\n",
    "\n",
    "A continuación usaré este modelo para testearlo en una pruba final con los datos del 'df_test' que se genero al dividir los datos en prueba, entrenamiento y validación"
   ]
  },
  {
   "cell_type": "markdown",
   "metadata": {},
   "source": [
    "## Prueba final <a id=\"titulo_principal_5\"></a>"
   ]
  },
  {
   "cell_type": "code",
   "execution_count": 40,
   "metadata": {},
   "outputs": [],
   "source": [
    "# Dividiendo dataset de testeo en variables independientes y variable dependiente\n",
    "features_test = df_test.drop(['Exited'], axis=1)\n",
    "targets_test = df_test['Exited']"
   ]
  },
  {
   "cell_type": "code",
   "execution_count": 41,
   "metadata": {},
   "outputs": [
    {
     "name": "stdout",
     "output_type": "stream",
     "text": [
      "F1 Score: 0.63\n",
      "AUC-ROC: 0.8642400818257747\n",
      "Accuracy: 0.829\n"
     ]
    }
   ],
   "source": [
    "# Ajuste de modelo con hiper-parametros mas eficientes\n",
    "model_RandomForest = RandomForestClassifier(random_state=12345, max_depth=10, min_samples_split=4, n_estimators=50)\n",
    "\n",
    "# Entrenar modelo con los datos balanceados\n",
    "model_RandomForest.fit(features_upsampled, target_upsampled)\n",
    "predicted_test = model_RandomForest.predict(features_test)\n",
    "\n",
    "# Calcular F1 Score\n",
    "f1 = f1_score(predicted_test, targets_test)\n",
    "print(f'F1 Score: {f1:.2f}')\n",
    "\n",
    "# Hacer predicciones de probabilidad\n",
    "y_pred_proba = model_RandomForest.predict_proba(features_test)[:, 1]\n",
    "\n",
    "# Calcular el AUC-ROC\n",
    "auc_roc = roc_auc_score(targets_test, y_pred_proba)\n",
    "print(f'AUC-ROC: {auc_roc}')\n",
    "\n",
    "# Calculo de exactitud\n",
    "accuracy = accuracy_score(targets_test, predicted_test)\n",
    "print(f'Accuracy: {accuracy}')\n"
   ]
  },
  {
   "cell_type": "markdown",
   "metadata": {},
   "source": [
    "Los resultados fueron muy buenos, incluso mejores que en el conjunto de validación:\n",
    "\n",
    "- F1 Score: 0.63\n",
    "- AUC-ROC: 0.8642400818257747\n",
    "- Accuracy: 0.829\n",
    "\n",
    "Veremos que pasa si ajustamos el umbral"
   ]
  },
  {
   "cell_type": "code",
   "execution_count": 42,
   "metadata": {},
   "outputs": [
    {
     "data": {
      "image/png": "[encoded data removed]",
      "text/plain": [
       "<Figure size 1200x600 with 1 Axes>"
      ]
     },
     "metadata": {},
     "output_type": "display_data"
    }
   ],
   "source": [
    "probabilities_test = model_RandomForest.predict_proba(features_test)\n",
    "probabilities_one_test = probabilities_test[:, 1]\n",
    "\n",
    "# Listas para almacenar las métricas en función del umbral\n",
    "thresholds = np.arange(0.2, 0.7, 0.02)\n",
    "precision_scores = []\n",
    "recall_scores = []\n",
    "f1_scores = []\n",
    "auc_roc_scores = []\n",
    "\n",
    "for threshold in thresholds:\n",
    "    predicted_test = probabilities_one_test > threshold\n",
    "    precision = precision_score(targets_test, predicted_test)\n",
    "    recall = recall_score(targets_test, predicted_test)\n",
    "    f1 = f1_score(targets_test, predicted_test)\n",
    "    auc_roc = roc_auc_score(targets_test, probabilities_one_test)\n",
    "    \n",
    "    precision_scores.append(precision)\n",
    "    recall_scores.append(recall)\n",
    "    f1_scores.append(f1)\n",
    "    auc_roc_scores.append(auc_roc)\n",
    "\n",
    "# Crear el gráfico\n",
    "plt.figure(figsize=(12, 6))\n",
    "plt.plot(thresholds, precision_scores, label='Precision')\n",
    "plt.plot(thresholds, recall_scores, label='Recall')\n",
    "plt.plot(thresholds, f1_scores, label='F1 Score')\n",
    "plt.plot(thresholds, auc_roc_scores, label='AUC-ROC')\n",
    "\n",
    "plt.xlabel('Threshold')\n",
    "plt.ylabel('Score')\n",
    "plt.title('Metrics at Different Thresholds')\n",
    "plt.legend()\n",
    "plt.grid(True)\n",
    "plt.show()"
   ]
  },
  {
   "cell_type": "markdown",
   "metadata": {},
   "source": [
    "Ajustando el umbral a 0.52 F1 mejora incluso más:\n",
    "\n",
    "    Threshold = 0.52 | Precision = 0.615, Recall = 0.674, F1 = 0.644, AUC-ROC = 0.864"
   ]
  },
  {
   "cell_type": "markdown",
   "metadata": {},
   "source": [
    "## Conclusión <a id=\"titulo_principal_6\"></a>\n",
    "\n",
    "En este proyecto, se realizaron los siguientes pasos:\n",
    "\n",
    "1. **Procesamiento de datos:** Se rellenaron los valores faltantes y se ajustaron los tipos de datos en algunas columnas.\n",
    "2. **Eliminación de columnas irrelevantes:** Se suprimieron columnas sin utilidad para el modelo como 'RowNumber', 'CustomerId' y 'Surname'.\n",
    "3. **Codificación y escalado:** Se codificaron los valores de las columnas categóricas y se escalaron las columnas numéricas para preparar los datos para los modelos.\n",
    "4. **División del conjunto de datos:** Se dividió el conjunto de datos en subconjuntos de entrenamiento, prueba y validación.\n",
    "5. **Entrenamiento de modelos iniciales:** Se entrenaron modelos sin considerar el desbalanceo de clases.\n",
    "6. **Balanceo de clases:** Se crearon conjuntos de datos balanceados mediante sobremuestreo y ajuste de pesos de clase, y se itero sobre diferentes umbrales.\n",
    "7. **Mejor modelo:** El mejor modelo fue el de Bosques Aleatorios usando balanceo de clases, con los siguientes resultados:\n",
    "\n",
    "       Threshold = 0.54 | Precision = 0.579, Recall = 0.639, F1 = 0.608, AUC-ROC = 0.853\n",
    "\n",
    "8. **Evaluación en conjunto de prueba:** El modelo mencionado se evaluó en el conjunto de prueba con resultados aún mejores:\n",
    "   - F1 Score: 0.63\n",
    "   - AUC-ROC: 0.864\n",
    "   - Accuracy: 0.829\n",
    "\n",
    "9. **Ajuste de umbral:** Se ajustó el umbral del modelo, superando el F1 requerido de 0.59:\n",
    "\n",
    "       Threshold = 0.52 | Precision = 0.615, Recall = 0.674, F1 = 0.644, AUC-ROC: 0.864\n",
    "\n",
    "En resumen, el proyecto ha cumplido con éxito el objetivo de desarrollar un modelo predictivo robusto para identificar la posible salida de clientes, superando los criterios establecidos.\n"
   ]
  }
 ],
 "metadata": {
  "kernelspec": {
   "display_name": "Python 3",
   "language": "python",
   "name": "python3"
  },
  "language_info": {
   "codemirror_mode": {
    "name": "ipython",
    "version": 3
   },
   "file_extension": ".py",
   "mimetype": "text/x-python",
   "name": "python",
   "nbconvert_exporter": "python",
   "pygments_lexer": "ipython3",
   "version": "3.12.3"
  }
 },
 "nbformat": 4,
 "nbformat_minor": 2
}
